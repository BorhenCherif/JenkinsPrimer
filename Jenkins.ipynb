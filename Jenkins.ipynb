{
 "cells": [
  {
   "cell_type": "code",
   "execution_count": 2,
   "metadata": {},
   "outputs": [],
   "source": [
    "#!pip install python-jenkins"
   ]
  },
  {
   "cell_type": "code",
   "execution_count": 5,
   "metadata": {},
   "outputs": [],
   "source": [
    "import jenkins\n",
    "import jenkinslogin"
   ]
  },
  {
   "cell_type": "code",
   "execution_count": 4,
   "metadata": {
    "scrolled": false
   },
   "outputs": [
    {
     "name": "stdout",
     "output_type": "stream",
     "text": [
      "{'_class': 'hudson.model.User', 'absoluteUrl': 'http://localhost:8080/user/admin', 'description': None, 'fullName': 'Noureddin Sadawi', 'id': 'admin', 'property': [{'_class': 'jenkins.security.ApiTokenProperty'}, {'_class': 'com.cloudbees.plugins.credentials.UserCredentialsProvider$UserCredentialsProperty'}, {'_class': 'hudson.plugins.emailext.watching.EmailExtWatchAction$UserProperty', 'triggers': []}, {'_class': 'hudson.model.MyViewsProperty'}, {'_class': 'org.jenkinsci.plugins.displayurlapi.user.PreferredProviderUserProperty'}, {'_class': 'hudson.model.PaneStatusProperties'}, {'_class': 'jenkins.security.seed.UserSeedProperty'}, {'_class': 'hudson.search.UserSearchProperty', 'insensitiveSearch': True}, {'_class': 'hudson.model.TimeZoneProperty'}, {'_class': 'hudson.security.HudsonPrivateSecurityRealm$Details'}, {'_class': 'hudson.tasks.Mailer$UserProperty', 'address': 'myemail@gmail.com'}, {'_class': 'jenkins.security.LastGrantedAuthoritiesProperty'}]}\n",
      "2.235.5\n"
     ]
    }
   ],
   "source": [
    "server = jenkins.Jenkins('http://localhost:8080', username=jenkinslogin.username, password='admin')\n",
    "user = server.get_whoami()\n",
    "print(user)\n",
    "version = server.get_version()\n",
    "print(version)\n",
    "#dir(server)"
   ]
  },
  {
   "cell_type": "code",
   "execution_count": null,
   "metadata": {},
   "outputs": [],
   "source": []
  },
  {
   "cell_type": "code",
   "execution_count": 3,
   "metadata": {},
   "outputs": [
    {
     "data": {
      "text/plain": [
       "[{'_class': 'hudson.model.FreeStyleProject',\n",
       "  'name': 'CucumberFreestyleProject',\n",
       "  'url': 'http://localhost:8080/job/CucumberFreestyleProject/',\n",
       "  'color': 'blue',\n",
       "  'fullname': 'CucumberFreestyleProject'},\n",
       " {'_class': 'org.jenkinsci.plugins.workflow.job.WorkflowJob',\n",
       "  'name': 'CucumberPipelineProject',\n",
       "  'url': 'http://localhost:8080/job/CucumberPipelineProject/',\n",
       "  'color': 'blue',\n",
       "  'fullname': 'CucumberPipelineProject'},\n",
       " {'_class': 'hudson.model.FreeStyleProject',\n",
       "  'name': 'DockerNodeJS',\n",
       "  'url': 'http://localhost:8080/job/DockerNodeJS/',\n",
       "  'color': 'blue',\n",
       "  'fullname': 'DockerNodeJS'},\n",
       " {'_class': 'hudson.model.FreeStyleProject',\n",
       "  'name': 'SimpleMavenProject',\n",
       "  'url': 'http://localhost:8080/job/SimpleMavenProject/',\n",
       "  'color': 'blue',\n",
       "  'fullname': 'SimpleMavenProject'},\n",
       " {'_class': 'org.jenkinsci.plugins.workflow.job.WorkflowJob',\n",
       "  'name': 'SimpleMavenProjectPipeline',\n",
       "  'url': 'http://localhost:8080/job/SimpleMavenProjectPipeline/',\n",
       "  'color': 'blue',\n",
       "  'fullname': 'SimpleMavenProjectPipeline'}]"
      ]
     },
     "execution_count": 3,
     "metadata": {},
     "output_type": "execute_result"
    }
   ],
   "source": [
    "#server.create_job('empty', jenkins.EMPTY_CONFIG_XML)\n",
    "jobs = server.get_jobs()\n",
    "jobs"
   ]
  },
  {
   "cell_type": "code",
   "execution_count": 18,
   "metadata": {},
   "outputs": [],
   "source": [
    "## Create a Free Style Project\n",
    "j = server.create_job('My Free Style', jenkins.EMPTY_CONFIG_XML)\n",
    "jobs = server.get_jobs()\n",
    "j"
   ]
  },
  {
   "cell_type": "code",
   "execution_count": 22,
   "metadata": {},
   "outputs": [
    {
     "data": {
      "text/plain": [
       "{'_class': 'hudson.model.User',\n",
       " 'absoluteUrl': 'http://localhost:8080/user/admin',\n",
       " 'description': None,\n",
       " 'fullName': 'Noureddin Sadawi',\n",
       " 'id': 'admin',\n",
       " 'property': [{'_class': 'jenkins.security.ApiTokenProperty'},\n",
       "  {'_class': 'com.cloudbees.plugins.credentials.UserCredentialsProvider$UserCredentialsProperty'},\n",
       "  {'_class': 'hudson.plugins.emailext.watching.EmailExtWatchAction$UserProperty',\n",
       "   'triggers': []},\n",
       "  {'_class': 'hudson.model.MyViewsProperty'},\n",
       "  {'_class': 'org.jenkinsci.plugins.displayurlapi.user.PreferredProviderUserProperty'},\n",
       "  {'_class': 'hudson.model.PaneStatusProperties'},\n",
       "  {'_class': 'jenkins.security.seed.UserSeedProperty'},\n",
       "  {'_class': 'hudson.search.UserSearchProperty', 'insensitiveSearch': True},\n",
       "  {'_class': 'hudson.model.TimeZoneProperty'},\n",
       "  {'_class': 'hudson.security.HudsonPrivateSecurityRealm$Details'},\n",
       "  {'_class': 'hudson.tasks.Mailer$UserProperty',\n",
       "   'address': 'n.sadawi@gmail.com'},\n",
       "  {'_class': 'jenkins.security.LastGrantedAuthoritiesProperty'}]}"
      ]
     },
     "execution_count": 22,
     "metadata": {},
     "output_type": "execute_result"
    }
   ],
   "source": [
    "server.get_whoami()"
   ]
  },
  {
   "cell_type": "code",
   "execution_count": 17,
   "metadata": {},
   "outputs": [
    {
     "name": "stdout",
     "output_type": "stream",
     "text": [
      "<?xml version=\"1.0\" encoding=\"UTF-8\"?><project>\n",
      "  <keepDependencies>false</keepDependencies>\n",
      "  <properties/>\n",
      "  <scm class=\"jenkins.scm.NullSCM\"/>\n",
      "  <canRoam>true</canRoam>\n",
      "  <disabled>false</disabled>\n",
      "  <blockBuildWhenUpstreamBuilding>false</blockBuildWhenUpstreamBuilding>\n",
      "  <triggers class=\"vector\"/>\n",
      "  <concurrentBuild>false</concurrentBuild>\n",
      "  <builders/>\n",
      "  <publishers/>\n",
      "  <buildWrappers/>\n",
      "</project>\n"
     ]
    }
   ],
   "source": [
    "my_job = server.get_job_config('empty')\n",
    "print(my_job) # prints XML configuration"
   ]
  },
  {
   "cell_type": "code",
   "execution_count": null,
   "metadata": {},
   "outputs": [],
   "source": [
    "server.build_job('empty')\n",
    "server.disable_job('empty')\n",
    "server.copy_job('empty', 'empty_copy')\n",
    "server.enable_job('empty_copy')\n",
    "server.reconfig_job('empty_copy', jenkins.RECONFIG_XML)"
   ]
  }
 ],
 "metadata": {
  "kernelspec": {
   "display_name": "Python 3",
   "language": "python",
   "name": "python3"
  },
  "language_info": {
   "codemirror_mode": {
    "name": "ipython",
    "version": 3
   },
   "file_extension": ".py",
   "mimetype": "text/x-python",
   "name": "python",
   "nbconvert_exporter": "python",
   "pygments_lexer": "ipython3",
   "version": "3.7.6"
  }
 },
 "nbformat": 4,
 "nbformat_minor": 4
}
